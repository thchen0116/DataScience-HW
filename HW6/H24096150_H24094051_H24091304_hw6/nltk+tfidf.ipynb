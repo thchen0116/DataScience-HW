{
 "cells": [
  {
   "cell_type": "code",
   "execution_count": 3,
   "metadata": {},
   "outputs": [
    {
     "name": "stdout",
     "output_type": "stream",
     "text": [
      "showing info https://raw.githubusercontent.com/nltk/nltk_data/gh-pages/index.xml\n"
     ]
    },
    {
     "data": {
      "text/plain": [
       "True"
      ]
     },
     "execution_count": 3,
     "metadata": {},
     "output_type": "execute_result"
    }
   ],
   "source": [
    "#install nltk\n",
    "import nltk\n",
    "nltk.download()"
   ]
  },
  {
   "cell_type": "code",
   "execution_count": 1,
   "metadata": {},
   "outputs": [],
   "source": [
    "#import package\n",
    "import pandas as pd\n",
    "import numpy as np\n",
    "from sklearn.feature_extraction.text import TfidfVectorizer\n",
    "from xgboost import XGBClassifier\n",
    "from nltk import word_tokenize\n",
    "from nltk.tokenize import RegexpTokenizer\n",
    "from nltk.corpus import stopwords"
   ]
  },
  {
   "cell_type": "code",
   "execution_count": 24,
   "metadata": {},
   "outputs": [],
   "source": [
    "#load data\n",
    "train=pd.read_csv(\"train.csv\")\n",
    "test=pd.read_csv(\"test.csv\")\n",
    "sample=pd.read_csv(\"sample_upload.csv\")\n",
    "train_X=train[\"tweet\"]\n",
    "train_Y=train[\"class\"]\n",
    "test_X=test[\"tweet\"]"
   ]
  },
  {
   "cell_type": "code",
   "execution_count": 26,
   "metadata": {
    "scrolled": false
   },
   "outputs": [
    {
     "name": "stderr",
     "output_type": "stream",
     "text": [
      "<ipython-input-26-1c6f335b5fc6>:7: SettingWithCopyWarning: \n",
      "A value is trying to be set on a copy of a slice from a DataFrame\n",
      "\n",
      "See the caveats in the documentation: https://pandas.pydata.org/pandas-docs/stable/user_guide/indexing.html#returning-a-view-versus-a-copy\n",
      "  train_X[i]=' '.join(token)\n",
      "<ipython-input-26-1c6f335b5fc6>:14: SettingWithCopyWarning: \n",
      "A value is trying to be set on a copy of a slice from a DataFrame\n",
      "\n",
      "See the caveats in the documentation: https://pandas.pydata.org/pandas-docs/stable/user_guide/indexing.html#returning-a-view-versus-a-copy\n",
      "  test_X[i]=' '.join(token)\n",
      "<ipython-input-26-1c6f335b5fc6>:19: SettingWithCopyWarning: \n",
      "A value is trying to be set on a copy of a slice from a DataFrame\n",
      "\n",
      "See the caveats in the documentation: https://pandas.pydata.org/pandas-docs/stable/user_guide/indexing.html#returning-a-view-versus-a-copy\n",
      "  train_X[i]=' '.join(token)\n",
      "<ipython-input-26-1c6f335b5fc6>:24: SettingWithCopyWarning: \n",
      "A value is trying to be set on a copy of a slice from a DataFrame\n",
      "\n",
      "See the caveats in the documentation: https://pandas.pydata.org/pandas-docs/stable/user_guide/indexing.html#returning-a-view-versus-a-copy\n",
      "  test_X[i]=' '.join(token)\n"
     ]
    }
   ],
   "source": [
    "#add stopwords\n",
    "stop_words=set(stopwords.words(\"english\"))\n",
    "stop_words.update([\"RT\",\"I\"])\n",
    "\n",
    "#text preprocessing\n",
    "for i in range(len(train_X)):\n",
    "    token=word_tokenize(train_X[i])\n",
    "    for j in range(len(token)):\n",
    "        if token[j]==\"@\" and j<len(token)-1:\n",
    "            token[j+1]=\":\"\n",
    "    train_X[i]=' '.join(token)\n",
    "    \n",
    "for i in range(len(test_X)):\n",
    "    token=word_tokenize(test_X[i])\n",
    "    for j in range(len(token)):\n",
    "        if token[j]==\"@\" and j<len(token)-1:\n",
    "            token[j+1]=\":\"\n",
    "    test_X[i]=' '.join(token)\n",
    "\n",
    "for i in range(len(train_X)):\n",
    "    token=RegexpTokenizer(r\"\\w+\").tokenize(train_X[i])\n",
    "    token=[w for w in token if w not in stop_words]\n",
    "    token=[w for w in token if w.isdigit()==False]\n",
    "    train_X[i]=' '.join(token)\n",
    "    \n",
    "for i in range(len(test_X)):\n",
    "    token=RegexpTokenizer(r\"\\w+\").tokenize(test_X[i])\n",
    "    token=[w for w in token if w not in stop_words]\n",
    "    token=[w for w in token if w.isdigit()==False]\n",
    "    test_X[i]=' '.join(token)"
   ]
  },
  {
   "cell_type": "code",
   "execution_count": 27,
   "metadata": {},
   "outputs": [],
   "source": [
    "#TfidfVectorizer\n",
    "tfidf=TfidfVectorizer()\n",
    "tfidf.fit(train_X)\n",
    "train_X=tfidf.transform(train_X)\n",
    "test_X=tfidf.transform(test_X)"
   ]
  },
  {
   "cell_type": "code",
   "execution_count": 28,
   "metadata": {},
   "outputs": [
    {
     "name": "stderr",
     "output_type": "stream",
     "text": [
      "C:\\anaconda3\\lib\\site-packages\\xgboost\\sklearn.py:1224: UserWarning: The use of label encoder in XGBClassifier is deprecated and will be removed in a future release. To remove this warning, do the following: 1) Pass option use_label_encoder=False when constructing XGBClassifier object; and 2) Encode your labels (y) as integers starting with 0, i.e. 0, 1, 2, ..., [num_class - 1].\n",
      "  warnings.warn(label_encoder_deprecation_msg, UserWarning)\n"
     ]
    },
    {
     "name": "stdout",
     "output_type": "stream",
     "text": [
      "[09:50:00] WARNING: C:/Users/Administrator/workspace/xgboost-win64_release_1.5.1/src/learner.cc:576: \n",
      "Parameters: { \"params\" } might not be used.\n",
      "\n",
      "  This could be a false alarm, with some parameters getting used by language bindings but\n",
      "  then being mistakenly passed down to XGBoost core, or some parameter actually being used\n",
      "  but getting flagged wrongly here. Please open an issue if you find any such cases.\n",
      "\n",
      "\n",
      "[09:50:00] WARNING: C:/Users/Administrator/workspace/xgboost-win64_release_1.5.1/src/learner.cc:1115: Starting in XGBoost 1.3.0, the default evaluation metric used with the objective 'multi:softprob' was changed from 'merror' to 'mlogloss'. Explicitly set eval_metric if you'd like to restore the old behavior.\n"
     ]
    }
   ],
   "source": [
    "#training\n",
    "clf=XGBClassifier(params = { 'max_depth': 6, 'objective': 'multi:softmax', 'num_class': 3 })\n",
    "clf.fit(train_X,train_Y)\n",
    "pred_Y=clf.predict(test_X)"
   ]
  },
  {
   "cell_type": "code",
   "execution_count": 29,
   "metadata": {},
   "outputs": [],
   "source": [
    "#create csv\n",
    "outcome={\"id\":sample[\"id\"],\n",
    "         \"Exited\":pred_Y}\n",
    "df_outcome=pd.DataFrame(outcome)\n",
    "df_outcome\n",
    "df_outcome.to_csv(\"predict_5.csv\",index=False)"
   ]
  },
  {
   "cell_type": "code",
   "execution_count": null,
   "metadata": {},
   "outputs": [],
   "source": []
  }
 ],
 "metadata": {
  "kernelspec": {
   "display_name": "Python 3",
   "language": "python",
   "name": "python3"
  },
  "language_info": {
   "codemirror_mode": {
    "name": "ipython",
    "version": 3
   },
   "file_extension": ".py",
   "mimetype": "text/x-python",
   "name": "python",
   "nbconvert_exporter": "python",
   "pygments_lexer": "ipython3",
   "version": "3.8.3"
  }
 },
 "nbformat": 4,
 "nbformat_minor": 4
}
