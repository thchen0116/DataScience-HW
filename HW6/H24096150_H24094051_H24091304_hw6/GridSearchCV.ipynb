{
 "cells": [
  {
   "cell_type": "code",
   "execution_count": 1,
   "metadata": {},
   "outputs": [],
   "source": [
    "#import package\n",
    "import pandas as pd\n",
    "import numpy as np\n",
    "from sklearn.feature_extraction.text import TfidfVectorizer\n",
    "from sklearn.model_selection import cross_val_score\n",
    "from sklearn.model_selection import train_test_split\n",
    "from sklearn.metrics import f1_score\n",
    "from xgboost import XGBClassifier"
   ]
  },
  {
   "cell_type": "code",
   "execution_count": 2,
   "metadata": {},
   "outputs": [],
   "source": [
    "#load data\n",
    "train=pd.read_csv(\"train.csv\")\n",
    "X=train[\"tweet\"]\n",
    "Y=train[\"class\"]"
   ]
  },
  {
   "cell_type": "code",
   "execution_count": 3,
   "metadata": {},
   "outputs": [],
   "source": [
    "#score\n",
    "def score(pred_Y,test_Y):\n",
    "    \n",
    "    #AllF\n",
    "    list_score_all=f1_score(pred_Y,test_Y,average=None)\n",
    "    score_all=np.mean(list_score_all)\n",
    "    \n",
    "    #HateF\n",
    "    h_pred_Y=pred_Y.copy()\n",
    "    h_test_Y=test_Y.copy()\n",
    "    h_pred_Y[h_pred_Y==2]=1\n",
    "    h_test_Y[h_test_Y==2]=1\n",
    "    list_score_hate=f1_score(h_pred_Y,h_test_Y,average=None)\n",
    "    score_hate=np.mean(list_score_hate)\n",
    "    \n",
    "#     print(\"HateF:\",score_hate)\n",
    "#     print(\"AllF:\",score_all)\n",
    "#     print(\"Final:\",0.6*score_hate+0.4*score_all)\n",
    "    score_final=0.6*score_hate+0.4*score_all\n",
    "    return score_final"
   ]
  },
  {
   "cell_type": "code",
   "execution_count": 4,
   "metadata": {},
   "outputs": [
    {
     "name": "stdout",
     "output_type": "stream",
     "text": [
      "[0.6649232053280147, 6, 0.1, 0.3]\n"
     ]
    }
   ],
   "source": [
    "#grid search\n",
    "best_hyperparameters=[0]\n",
    "list_depth=[4,5,6,7,8]\n",
    "list_gamma=[0.05,0.1,0.3,0.5]\n",
    "list_eta=[0.05,0.1,0.15,0.2,0.25,0.3]\n",
    "for depth in list_depth:\n",
    "    for gamma in list_gamma:\n",
    "        for eta in list_eta:\n",
    "            k=5\n",
    "            n_samples=len(X)\n",
    "            fold_size=n_samples//k\n",
    "            scores=[]\n",
    "            masks=[]\n",
    "            for fold in range(k):\n",
    "\n",
    "                #generate a boolean mask for the test set in this fold\n",
    "                test_mask=np.zeros(n_samples,dtype=bool)\n",
    "                test_mask[fold*fold_size:(fold+1)*fold_size]=True\n",
    "\n",
    "                #create training and testing sets using this mask\n",
    "                test_X,test_Y=X[test_mask],Y[test_mask]\n",
    "                train_X,train_Y=X[~test_mask],Y[~test_mask]\n",
    "\n",
    "                #TfidfVectorizer\n",
    "                tfidf=TfidfVectorizer()\n",
    "                tfidf.fit(train_X)\n",
    "                train_X=tfidf.transform(train_X)\n",
    "                test_X=tfidf.transform(test_X)\n",
    "\n",
    "                #training\n",
    "                clf=XGBClassifier(eval_metric='mlogloss',use_label_encoder=False,max_depth=depth,gamma=gamma,eta=eta)\n",
    "                clf.fit(train_X,train_Y)\n",
    "                pred_Y=clf.predict(test_X)\n",
    "                scores.append(score(pred_Y,test_Y))\n",
    "            \n",
    "            if np.mean(scores)>best_hyperparameters[0]:\n",
    "                best_hyperparameters=[np.mean(scores),depth,gamma,eta]\n",
    "                \n",
    "print(best_hyperparameters)\n",
    "#score,depth,gamma,eta"
   ]
  },
  {
   "cell_type": "code",
   "execution_count": null,
   "metadata": {},
   "outputs": [],
   "source": []
  }
 ],
 "metadata": {
  "kernelspec": {
   "display_name": "Python 3",
   "language": "python",
   "name": "python3"
  },
  "language_info": {
   "codemirror_mode": {
    "name": "ipython",
    "version": 3
   },
   "file_extension": ".py",
   "mimetype": "text/x-python",
   "name": "python",
   "nbconvert_exporter": "python",
   "pygments_lexer": "ipython3",
   "version": "3.8.3"
  }
 },
 "nbformat": 4,
 "nbformat_minor": 4
}
