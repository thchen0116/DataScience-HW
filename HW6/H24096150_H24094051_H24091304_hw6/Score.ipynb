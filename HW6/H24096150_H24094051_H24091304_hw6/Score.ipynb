{
 "cells": [
  {
   "cell_type": "code",
   "execution_count": 12,
   "metadata": {},
   "outputs": [],
   "source": [
    "#import package\n",
    "import pandas as pd\n",
    "import numpy as np\n",
    "from sklearn.feature_extraction.text import TfidfVectorizer\n",
    "from sklearn.feature_extraction.text import CountVectorizer\n",
    "from sklearn.model_selection import cross_val_score\n",
    "from sklearn.model_selection import train_test_split\n",
    "from sklearn.metrics import f1_score\n",
    "from xgboost import XGBClassifier"
   ]
  },
  {
   "cell_type": "code",
   "execution_count": 15,
   "metadata": {},
   "outputs": [],
   "source": [
    "#load data\n",
    "train=pd.read_csv(\"train.csv\")\n",
    "X=train[\"tweet\"]\n",
    "Y=train[\"class\"]\n",
    "train_X,test_X,train_Y,test_Y=train_test_split(X,Y,train_size=0.8,stratify=Y,random_state=2)"
   ]
  },
  {
   "cell_type": "code",
   "execution_count": 3,
   "metadata": {},
   "outputs": [],
   "source": [
    "#TfidfVectorizer\n",
    "tfidf=TfidfVectorizer()\n",
    "tfidf.fit(train_X)\n",
    "train_X=tfidf.transform(train_X)\n",
    "test_X=tfidf.transform(test_X)"
   ]
  },
  {
   "cell_type": "code",
   "execution_count": 10,
   "metadata": {},
   "outputs": [],
   "source": [
    "#CountVectorizer\n",
    "count=CountVectorizer()\n",
    "count.fit(train_X)\n",
    "train_X=count.transform(train_X)\n",
    "test_X=count.transform(test_X)"
   ]
  },
  {
   "cell_type": "code",
   "execution_count": 14,
   "metadata": {
    "scrolled": false
   },
   "outputs": [
    {
     "name": "stdout",
     "output_type": "stream",
     "text": [
      "HateF: 0.6445422566712113\n",
      "AllF: 0.7162835873461506\n",
      "Final: 0.673238788941187\n"
     ]
    }
   ],
   "source": [
    "#training\n",
    "clf=XGBClassifier(eval_metric='mlogloss',use_label_encoder=False)\n",
    "clf.fit(train_X,train_Y)\n",
    "pred_Y=clf.predict(test_X)\n",
    "score(pred_Y,test_Y)"
   ]
  },
  {
   "cell_type": "code",
   "execution_count": 4,
   "metadata": {},
   "outputs": [],
   "source": [
    "#score\n",
    "def score(pred_Y,test_Y):\n",
    "    \n",
    "    #AllF\n",
    "    list_score_all=f1_score(pred_Y,test_Y,average=None)\n",
    "    score_all=np.mean(list_score_all)\n",
    "    \n",
    "    #HateF\n",
    "    h_pred_Y=pred_Y.copy()\n",
    "    h_test_Y=test_Y.copy()\n",
    "    h_pred_Y[h_pred_Y==2]=1\n",
    "    h_test_Y[h_test_Y==2]=1\n",
    "    list_score_hate=f1_score(h_pred_Y,h_test_Y,average=None)\n",
    "    score_hate=np.mean(list_score_hate)\n",
    "    \n",
    "    print(\"HateF:\",score_hate)\n",
    "    print(\"AllF:\",score_all)\n",
    "    print(\"Final:\",0.6*score_hate+0.4*score_all)"
   ]
  },
  {
   "cell_type": "code",
   "execution_count": null,
   "metadata": {},
   "outputs": [],
   "source": []
  }
 ],
 "metadata": {
  "kernelspec": {
   "display_name": "Python 3",
   "language": "python",
   "name": "python3"
  },
  "language_info": {
   "codemirror_mode": {
    "name": "ipython",
    "version": 3
   },
   "file_extension": ".py",
   "mimetype": "text/x-python",
   "name": "python",
   "nbconvert_exporter": "python",
   "pygments_lexer": "ipython3",
   "version": "3.8.3"
  }
 },
 "nbformat": 4,
 "nbformat_minor": 4
}
