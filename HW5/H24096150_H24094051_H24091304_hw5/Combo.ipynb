{
 "cells": [
  {
   "cell_type": "code",
   "execution_count": 1,
   "metadata": {},
   "outputs": [],
   "source": [
    "#import package\n",
    "from xgboost import XGBClassifier\n",
    "from sklearn.ensemble import RandomForestClassifier\n",
    "from combo.models.classifier_stacking import Stacking\n",
    "from sklearn.preprocessing import StandardScaler\n",
    "from sklearn.preprocessing import OneHotEncoder\n",
    "import pandas as pd\n",
    "import numpy as np"
   ]
  },
  {
   "cell_type": "code",
   "execution_count": 2,
   "metadata": {},
   "outputs": [],
   "source": [
    "#load data\n",
    "data=pd.read_csv(\"train.csv\")\n",
    "train_X=data.iloc[:,0:-1]\n",
    "train_y=data.iloc[:,-1]\n",
    "test_X=pd.read_csv(\"test.csv\")"
   ]
  },
  {
   "cell_type": "code",
   "execution_count": 3,
   "metadata": {},
   "outputs": [],
   "source": [
    "#data preprocessing\n",
    "sc=StandardScaler()\n",
    "ad_train_X=train_X.iloc[:,[3,6,7,8,9,12]]\n",
    "ad_test_X=test_X.iloc[:,[3,6,7,8,9,12]]\n",
    "ad1_train_X=sc.fit_transform(ad_train_X)\n",
    "ad1_test_X=sc.transform(ad_test_X)\n",
    "\n",
    "ohe=OneHotEncoder()\n",
    "ad2_train_X=train_X.iloc[:,[4,5,10,11]]\n",
    "ad2_test_X=test_X.iloc[:,[4,5,10,11]]\n",
    "ad3_train_X=ohe.fit_transform(ad2_train_X).toarray()\n",
    "ad3_test_X=ohe.transform(ad2_test_X).toarray()\n",
    "\n",
    "df1=pd.DataFrame(ad1_train_X)\n",
    "df2=pd.DataFrame(ad3_train_X)\n",
    "for i in range(6,15):\n",
    "    df1[i]=df2[i-6]\n",
    "df3=pd.DataFrame(ad1_test_X)\n",
    "df4=pd.DataFrame(ad3_test_X)\n",
    "for i in range(6,15):\n",
    "    df3[i]=df4[i-6]\n",
    "\n",
    "df1.drop(columns=[8,9,11,12,13],inplace=True)\n",
    "df3.drop(columns=[8,9,11,12,13],inplace=True)\n",
    "\n",
    "adj_train_X=df1\n",
    "adj_test_X=df3"
   ]
  },
  {
   "cell_type": "code",
   "execution_count": 6,
   "metadata": {},
   "outputs": [],
   "source": [
    "classifiers = [XGBClassifier(use_label_encoder=False,max_depth=3,learning_rate=0.27,eval_metric=['logloss','auc','error']),\n",
    "               XGBClassifier(use_label_encoder=False,max_depth=3,learning_rate=0.11,eval_metric=['logloss','auc','error'])]\n",
    "clf = Stacking(base_estimators=classifiers) \n",
    "clf.fit(adj_train_X,train_y)\n",
    "pred_y=clf.predict(adj_test_X)"
   ]
  },
  {
   "cell_type": "code",
   "execution_count": 7,
   "metadata": {},
   "outputs": [],
   "source": [
    "#create csv\n",
    "outcome={\"RowNumber\":test_X[\"RowNumber\"],\n",
    "         \"Exited\":pred_y}\n",
    "df_outcome=pd.DataFrame(outcome)\n",
    "df_outcome.to_csv(\"predict_74.csv\")"
   ]
  },
  {
   "cell_type": "code",
   "execution_count": null,
   "metadata": {},
   "outputs": [],
   "source": []
  }
 ],
 "metadata": {
  "kernelspec": {
   "display_name": "Python 3",
   "language": "python",
   "name": "python3"
  },
  "language_info": {
   "codemirror_mode": {
    "name": "ipython",
    "version": 3
   },
   "file_extension": ".py",
   "mimetype": "text/x-python",
   "name": "python",
   "nbconvert_exporter": "python",
   "pygments_lexer": "ipython3",
   "version": "3.8.5"
  }
 },
 "nbformat": 4,
 "nbformat_minor": 4
}
