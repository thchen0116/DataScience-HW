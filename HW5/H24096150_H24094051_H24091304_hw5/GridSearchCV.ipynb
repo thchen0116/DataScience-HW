{
 "cells": [
  {
   "cell_type": "code",
   "execution_count": 2,
   "metadata": {},
   "outputs": [],
   "source": [
    "#import package\n",
    "from xgboost import XGBClassifier\n",
    "from sklearn.model_selection import GridSearchCV\n",
    "from sklearn.model_selection import train_test_split\n",
    "from sklearn.preprocessing import StandardScaler\n",
    "from sklearn.preprocessing import OneHotEncoder\n",
    "import pandas as pd\n",
    "import numpy as np"
   ]
  },
  {
   "cell_type": "code",
   "execution_count": 5,
   "metadata": {},
   "outputs": [
    {
     "name": "stdout",
     "output_type": "stream",
     "text": [
      "XGBClassifier(base_score=0.5, booster='gbtree', colsample_bylevel=1,\n",
      "              colsample_bynode=1, colsample_bytree=1, enable_categorical=False,\n",
      "              eval_metric=['logloss', 'auc', 'error'], gamma=0, gpu_id=-1,\n",
      "              importance_type=None, interaction_constraints='',\n",
      "              learning_rate=0.20714285714285713, max_delta_step=0, max_depth=3,\n",
      "              min_child_weight=1, missing=nan, monotone_constraints='()',\n",
      "              n_estimators=100, n_jobs=8, num_parallel_tree=1, predictor='auto',\n",
      "              random_state=0, reg_alpha=0, reg_lambda=1, scale_pos_weight=1,\n",
      "              subsample=1, tree_method='exact', use_label_encoder=False,\n",
      "              validate_parameters=1, verbosity=None)\n"
     ]
    }
   ],
   "source": [
    "#load data\n",
    "data=pd.read_csv(\"train.csv\")\n",
    "\n",
    "X=data.iloc[:,0:-1]\n",
    "y=data.iloc[:,-1]\n",
    "\n",
    "train_X,test_X,train_y,test_y=train_test_split(X,y,train_size=0.8,random_state=3)\n",
    "#data preprocessing\n",
    "#標準化\n",
    "sc=StandardScaler()\n",
    "ad_train_X=train_X.iloc[:,[3,6,7,8,9,12]]\n",
    "ad_test_X=test_X.iloc[:,[3,6,7,8,9,12]]\n",
    "ad1_train_X=sc.fit_transform(ad_train_X)\n",
    "ad1_test_X=sc.transform(ad_test_X)\n",
    "#重新編碼\n",
    "ohe=OneHotEncoder()\n",
    "ad2_train_X=train_X.iloc[:,[4,5,10,11]]\n",
    "ad2_test_X=test_X.iloc[:,[4,5,10,11]]\n",
    "ad3_train_X=ohe.fit_transform(ad2_train_X).toarray()\n",
    "ad3_test_X=ohe.transform(ad2_test_X).toarray()\n",
    "\n",
    "df1=pd.DataFrame(ad1_train_X)\n",
    "df2=pd.DataFrame(ad3_train_X)\n",
    "for i in range(6,15):\n",
    "    df1[i]=df2[i-6]\n",
    "df3=pd.DataFrame(ad1_test_X)\n",
    "df4=pd.DataFrame(ad3_test_X)\n",
    "for i in range(6,15):\n",
    "    df3[i]=df4[i-6]\n",
    "\n",
    "#去掉不必要的欄位\n",
    "df1.drop(columns=[8,9,11,12,13],inplace=True)\n",
    "df3.drop(columns=[8,9,11,12,13],inplace=True)\n",
    "\n",
    "adj_train_X=df1\n",
    "adj_test_X=df3\n",
    "\n",
    "#指定模型\n",
    "clf=XGBClassifier(eval_metric=['logloss','auc','error'],use_label_encoder=False)\n",
    "#給定指定的參數範圍\n",
    "param_dist = {\n",
    "            'max_depth':[3],\n",
    "            'learning_rate':np.linspace(0.1,0.35,50)\n",
    "            }\n",
    "#利用GridSearchCV找到最佳的參數組合\n",
    "grid = GridSearchCV(clf,param_dist,cv = 3)\n",
    "grid.fit(adj_train_X,train_y)\n",
    "best_estimator = grid.best_estimator_\n",
    "print(best_estimator)"
   ]
  },
  {
   "cell_type": "code",
   "execution_count": null,
   "metadata": {},
   "outputs": [],
   "source": []
  }
 ],
 "metadata": {
  "kernelspec": {
   "display_name": "Python 3",
   "language": "python",
   "name": "python3"
  },
  "language_info": {
   "codemirror_mode": {
    "name": "ipython",
    "version": 3
   },
   "file_extension": ".py",
   "mimetype": "text/x-python",
   "name": "python",
   "nbconvert_exporter": "python",
   "pygments_lexer": "ipython3",
   "version": "3.8.5"
  }
 },
 "nbformat": 4,
 "nbformat_minor": 4
}
