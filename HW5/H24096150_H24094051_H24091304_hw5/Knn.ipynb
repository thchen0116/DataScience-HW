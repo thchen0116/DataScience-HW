{
 "cells": [
  {
   "cell_type": "code",
   "execution_count": 2,
   "metadata": {},
   "outputs": [],
   "source": [
    "import pandas as pd\n",
    "import numpy as np\n",
    "from sklearn.model_selection import train_test_split\n",
    "from sklearn.preprocessing import StandardScaler\n",
    "from sklearn.neighbors import KNeighborsClassifier\n",
    "\n",
    "train = pd.read_csv('train.csv')\n",
    "test = pd.read_csv('test.csv')\n",
    "\n",
    "x1 = train[['CreditScore', 'Geography', 'Gender', 'Age', 'Balance', 'Tenure', 'NumOfProducts',  'HasCrCard', 'IsActiveMember', 'EstimatedSalary']]\n",
    "x1 = pd.get_dummies(x1)\n",
    "x2 = train['Exited']\n",
    "\n",
    "#自行切割資料\n",
    "x1_train, x1_test, x2_train, x2_test = train_test_split(x1,x2, train_size=0.8,random_state=3)\n",
    "\n",
    "clf = KNeighborsClassifier()\n",
    "scaler = StandardScaler()\n",
    "\n",
    "scaler.fit(x1_train)\n",
    "x1_train_std = scaler.transform(x1_train)\n",
    "x1_test_std = scaler.transform(x1_test)\n",
    "\n",
    "clf.fit(x1_train_std, x2_train)\n",
    "\n",
    "x1_test_predict = clf.predict(x1_test_std)\n",
    "#test accuracy score\n",
    "np.mean(x1_test_predict==x2_test)\n",
    "\n",
    "y = test[['CreditScore', 'Geography', 'Gender', 'Age', 'Balance', 'Tenure', 'NumOfProducts',  'HasCrCard', 'IsActiveMember', 'EstimatedSalary']]\n",
    "y = pd.get_dummies(y)\n",
    "\n",
    "#標準化資料\n",
    "scaler.fit(x1)\n",
    "x1_std = scaler.transform(x1)\n",
    "\n",
    "clf.fit(x1_std, x2)\n",
    "\n",
    "y_std = scaler.transform(y)\n",
    "y_predict = clf.predict(y_std)\n",
    "y_predict\n",
    "\n",
    "#create csv\n",
    "df = pd.DataFrame({'RowNumber': test['RowNumber'], 'Exited': list(y_predict)})\n",
    "df.to_csv(r'./predict_9.csv',columns=['RowNumber','Exited'],index=True,sep=',')\n"
   ]
  },
  {
   "cell_type": "code",
   "execution_count": null,
   "metadata": {},
   "outputs": [],
   "source": []
  }
 ],
 "metadata": {
  "kernelspec": {
   "display_name": "Python 3",
   "language": "python",
   "name": "python3"
  },
  "language_info": {
   "codemirror_mode": {
    "name": "ipython",
    "version": 3
   },
   "file_extension": ".py",
   "mimetype": "text/x-python",
   "name": "python",
   "nbconvert_exporter": "python",
   "pygments_lexer": "ipython3",
   "version": "3.8.5"
  }
 },
 "nbformat": 4,
 "nbformat_minor": 4
}
