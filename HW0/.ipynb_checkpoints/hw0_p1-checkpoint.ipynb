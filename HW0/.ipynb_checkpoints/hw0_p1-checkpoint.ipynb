{
 "cells": [
  {
   "cell_type": "code",
   "execution_count": 19,
   "metadata": {
    "scrolled": true
   },
   "outputs": [
    {
     "name": "stdout",
     "output_type": "stream",
     "text": [
      "please enter the polynomial:(X+2*Y)(2*X^2-Y^2+Z)\n",
      "[[['1', 'X'], ['2', 'Y']], [['2', 'X^2'], ['-1', 'Y^2'], ['1', 'Z']]]\n"
     ]
    }
   ],
   "source": [
    "p=input(\"please enter the polynomial:\")\n",
    "p=p.split(')(')\n",
    "a=[]\n",
    "b=[]\n",
    "c=[]\n",
    "p[0]=p[0].strip(\"(\")\n",
    "p[-1]=p[-1].strip(\")\")\n",
    "for i in range(len(p)):\n",
    "    if \"-\" in p[i]: \n",
    "        p[i]=p[i].replace('-','+-')\n",
    "    first=p[i].split(\"+\")\n",
    "    a.append(first)\n",
    "for i in range(len(a)):\n",
    "    b=[]\n",
    "    for j in range(len(a[i])):\n",
    "        if \"*\" not in a[i][j]:\n",
    "            if \"-\" in a[i][j]:\n",
    "                a[i][j]=a[i][j].strip(\"-\")\n",
    "                a[i][j]=\"-1*\"+a[i][j]\n",
    "            else:\n",
    "                a[i][j]=\"1*\"+a[i][j]\n",
    "        mul=a[i][j].split(\"*\")   \n",
    "        b.append(mul)\n",
    "    c.append(b)\n",
    "print(c)\n",
    "      \n",
    "   "
   ]
  },
  {
   "cell_type": "markdown",
   "metadata": {},
   "source": [
    "先把input的多項式用\")(\"分開，再把頭尾的\"(\"、\")\"去掉，在多項式裡面存成多個list，如果\"-\"在list裡面，就用\"+-\"取代\"-\"，再用\"+\"分開list存在a中，再判斷\" * \"是否再a的list裡面，如果沒有的話，就把a[i][j]前面多加上\"1*\"，存在c裡面。"
   ]
  },
  {
   "cell_type": "code",
   "execution_count": 38,
   "metadata": {},
   "outputs": [
    {
     "name": "stdout",
     "output_type": "stream",
     "text": [
      "[2, -1, 1, 4, -2, 2]\n",
      "['XX^2', 'XY^2', 'XZ', 'YX^2', 'YY^2', 'YZ']\n",
      "2XX^2-1XY^21XZ4YX^2-2YY^22YZ\n"
     ]
    }
   ],
   "source": [
    "num=[]\n",
    "var,var2,ans=[],[],str()\n",
    "dict1={}\n",
    "for i in range(len(c)):\n",
    "    for j in range(len(c[i])):\n",
    "        if i+1 >= len(c):\n",
    "            continue\n",
    "        for k in range(len(c[i+1])):\n",
    "            n=int(c[i][j][0])*int(c[i+1][k][0])\n",
    "            num.append(n)\n",
    "print(num)\n",
    "for i in range(len(c)):\n",
    "    for j in range(len(c[i])):\n",
    "        if i+1 >= len(c):\n",
    "            continue\n",
    "        for k in range(len(c[i+1])):\n",
    "            v=c[i][j][1] + c[i+1][k][1]\n",
    "            var.append(v)\n",
    "print(var)\n",
    "for i in range(len(num)):\n",
    "    a=str(num[i])+var[i]\n",
    "    ans += a\n",
    "print(ans)"
   ]
  },
  {
   "cell_type": "code",
   "execution_count": null,
   "metadata": {},
   "outputs": [],
   "source": []
  },
  {
   "cell_type": "code",
   "execution_count": null,
   "metadata": {},
   "outputs": [],
   "source": []
  }
 ],
 "metadata": {
  "kernelspec": {
   "display_name": "Python 3",
   "language": "python",
   "name": "python3"
  },
  "language_info": {
   "codemirror_mode": {
    "name": "ipython",
    "version": 3
   },
   "file_extension": ".py",
   "mimetype": "text/x-python",
   "name": "python",
   "nbconvert_exporter": "python",
   "pygments_lexer": "ipython3",
   "version": "3.8.5"
  }
 },
 "nbformat": 4,
 "nbformat_minor": 4
}
