{
 "cells": [
  {
   "cell_type": "code",
   "execution_count": 2,
   "metadata": {
    "scrolled": false
   },
   "outputs": [],
   "source": [
    "f=open(\"C:\\\\Users\\\\vivia\\\\Desktop\\\\Vivian\\\\datascience\\\\IMDB-Movie-Data.csv\",\"r\")\n",
    "lines=f.readlines()\n",
    "f.close()\n",
    "data=[]\n",
    "for t in range(len(lines)):\n",
    "    if t !=0:       \n",
    "        sp=lines[t].split(\",\")\n",
    "        data.append(sp)"
   ]
  },
  {
   "cell_type": "markdown",
   "metadata": {},
   "source": [
    "open檔案之後，用for-loop刪掉第一列之後，再把其他列用\",\"分開存在data中"
   ]
  },
  {
   "cell_type": "code",
   "execution_count": 3,
   "metadata": {},
   "outputs": [
    {
     "name": "stdout",
     "output_type": "stream",
     "text": [
      "Top-3 movies with the highest ratings in 2016: Dangal , Kimi no na wa , Koe no katachi\n"
     ]
    }
   ],
   "source": [
    "#problem1\n",
    "rating,result=[],[]\n",
    "a=[]\n",
    "movie=[]\n",
    "dict1={}\n",
    "for i in range(len(data)):\n",
    "    if \"2016\" in data[i][5]:\n",
    "        movie.append(data[i][1])\n",
    "    for j in range(len(movie)):\n",
    "        if movie[j] in data[i][1]:\n",
    "            rating.append(data[i][7])\n",
    "dict1=dict(zip(movie,rating))\n",
    "dict1=dict(sorted(dict1.items(), key=lambda item: item[1],reverse=True)) \n",
    "rating=list(set(rating))\n",
    "rating.sort(reverse=True)    \n",
    "print(\"Top-3 movies with the highest ratings in 2016:\",end=' ')\n",
    "for i in range(3):\n",
    "    for j in range(len(dict1)):\n",
    "        key1=list(dict1.keys())\n",
    "        value1=list(dict1.values())\n",
    "        if rating[i] == value1[j]:\n",
    "            result.append(key1[j])\n",
    "for i in range(len(result)):\n",
    "    if i < len(result)-1:\n",
    "        print(result[i],end=\" , \")\n",
    "    else:\n",
    "        print(result[i])"
   ]
  },
  {
   "cell_type": "markdown",
   "metadata": {},
   "source": [
    "先找2016年的電影名稱，存成一個list，再用電影名稱去找相對應的rating，並存成另一個list，\n",
    "利用dictionary把movie跟rating的list包再一起，movie是key，rating是value，\n",
    "用set把ratingt重複的數字去掉，再用sort由大到小排序，\n",
    "最後用for-loop找到前三名並存在result裡。"
   ]
  },
  {
   "cell_type": "code",
   "execution_count": 4,
   "metadata": {},
   "outputs": [
    {
     "name": "stdout",
     "output_type": "stream",
     "text": [
      "The actor generating the highest average revenue:John Boyega , Daisy Ridley\n"
     ]
    }
   ],
   "source": [
    "#problem2\n",
    "actor,genere,num,generes=[],[],[],[]\n",
    "dict1={}\n",
    "actors,act,result=[],[],[]\n",
    "for i in range(len(data)):\n",
    "    sp=data[i][4].split('|')\n",
    "    for j in range(len(sp)):\n",
    "        act.append(sp[j].strip(\" \"))\n",
    "actors=list(set(act))            #去掉重複的\n",
    "for i in range(len(actors)):\n",
    "    total = 0\n",
    "    a = 0\n",
    "    for j in range(len(data)):\n",
    "        if actors[i] in data[j][4]:\n",
    "            if data[j][9] == \"\":\n",
    "                total += 0\n",
    "                a += 1\n",
    "            else:\n",
    "                total += float(data[j][9])\n",
    "                a += 1\n",
    "    num.append(total/a)   \n",
    "dict1=dict(zip(actors,num))\n",
    "dict1=dict(sorted(dict1.items(), key=lambda item: item[1],reverse=True))\n",
    "fin=max(num)             \n",
    "print(\"The actor generating the highest average revenue:\",end=\"\")\n",
    "for j in range(len(dict1)):\n",
    "    key1=list(dict1.keys())\n",
    "    value1=list(dict1.values())\n",
    "    if fin == value1[j]:\n",
    "        result.append(key1[j])\n",
    "for i in range(len(result)):\n",
    "    if i < len(result)-1:\n",
    "        print(result[i],end=\" , \")\n",
    "    else:\n",
    "        print(result[i])"
   ]
  },
  {
   "cell_type": "markdown",
   "metadata": {},
   "source": [
    "先在data裡找所有演員的資料，並用split把\"|\"分開，\n",
    "因為有些演員的名字前面會包含一個空格，所以用strip把空格去掉，\n",
    "再利用set把重複的演員名字去掉，存成actors這個list，\n",
    "從actors裡面找各個演員在data裡面所有對應到的revenue，\n",
    "利用total去計算revenue總和，a則是計算總共的電影數量，然後再取平均(num)，\n",
    "利用dictionary把actors跟num的list包在一起，actors是key，num是value，\n",
    "用max取num裡的最大值，就可以找到最大的平均總收益，\n",
    "最後用for-loop找到最大平均總收益對到的演員是誰並存在result裡。"
   ]
  },
  {
   "cell_type": "code",
   "execution_count": 5,
   "metadata": {},
   "outputs": [
    {
     "name": "stdout",
     "output_type": "stream",
     "text": [
      "The average rating of Emma Watson’s movies: 7.175\n"
     ]
    }
   ],
   "source": [
    "#problem3\n",
    "actors=[]\n",
    "num=0\n",
    "total=0\n",
    "for i in range(len(data)):\n",
    "    actor=data[i][4].split(\"|\")\n",
    "    act=[]\n",
    "    for j in range(len(actor)):\n",
    "        act.append(actor[j].strip(' '))\n",
    "    actors.append(act)\n",
    "for j in range(len(actors)):\n",
    "    if 'Emma Watson' in actors[j]:\n",
    "        total += float(data[j][7])\n",
    "        num+=1\n",
    "print('The average rating of Emma Watson’s movies:',total/num)"
   ]
  },
  {
   "cell_type": "markdown",
   "metadata": {},
   "source": [
    "先在data裡找演員的資料，並用split把\"|\"分開，\n",
    "因為有些演員的名字前面會包含一個空格，所以用strip把空格去掉，\n",
    "再利用set把重複的演員名字去掉，存成actors這個list，\n",
    "從actors裡面找\"Emma Watson\"，如果再第j個項找到的話，\n",
    "再用total去計算在data裡面所有對應到的rating總和，num則是計算總共的電影數量，\n",
    "最後用print平均(total/num)。"
   ]
  },
  {
   "cell_type": "code",
   "execution_count": 6,
   "metadata": {},
   "outputs": [
    {
     "name": "stdout",
     "output_type": "stream",
     "text": [
      "Top-3 directors who collaborate with the most actors: Ridley Scott , M. Night Shyamalan , Danny Boyle , Paul W.S. Anderson\n"
     ]
    }
   ],
   "source": [
    "#problem4\n",
    "director,actors,a,num,acts,result=[],[],[],[],[],[]\n",
    "dict1={}\n",
    "for i in range(len(data)):\n",
    "    director.append(data[i][3])\n",
    "director=list(set(director))            #去掉重複的\n",
    "director.sort()\n",
    "for i in director:\n",
    "    b=[]\n",
    "    for j in range(len(data)):\n",
    "        if i == data[j][3]:\n",
    "            a=data[j][4].split('|')\n",
    "            for k in range(len(a)):\n",
    "                a[k] = a[k].strip(' ')  #有些名字前面有\" \"\n",
    "            b.extend(a)                 #b的迴圈結束，重新繼續\n",
    "    actors.append(b)\n",
    "for i in range(len(actors)):\n",
    "    act=list(set(actors[i]))            #去掉重複的\n",
    "    acts.append(act)\n",
    "    num.append(len(acts[i]))\n",
    "dict1=dict(zip(director,num))\n",
    "dict1=dict(sorted(dict1.items(), key=lambda item: item[1],reverse=True))\n",
    "print('Top-3 directors who collaborate with the most actors:',end=\" \")\n",
    "num=list(set(num))\n",
    "num.sort(reverse=True)             \n",
    "for i in range(3):                      #不確定會不會有名次並列的\n",
    "    for j in range(len(dict1)):\n",
    "        key1=list(dict1.keys())\n",
    "        value1=list(dict1.values())\n",
    "        if num[i]== value1[j]:\n",
    "            result.append(key1[j])\n",
    "for i in range(len(result)):\n",
    "    if i < len(result)-1:\n",
    "        print(result[i],end=\" , \")\n",
    "    else:\n",
    "        print(result[i])"
   ]
  },
  {
   "cell_type": "markdown",
   "metadata": {},
   "source": [
    "先在data裡找導演的資料，用set把重複的去掉，\n",
    "用for-loop找每位導演對應到的電影有哪些，\n",
    "然後在data裡那些電影中找演員的資料，並用split把\"|\"分開，\n",
    "因為有些演員的名字前面會包含一個空格，所以用strip把空格去掉，\n",
    "再存成actors這個list，用set把重複的演員名字去掉，避免重複計算，\n",
    "用num去算每個導演對應到的演員人數有幾位，\n",
    "利用dictionary把director跟num的list包在一起，director是key，num是value，\n",
    "用set把num裡重複的數字刪掉，並由大到小排序，\n",
    "最後用for-loop找到前三名並存在result裡。"
   ]
  },
  {
   "cell_type": "code",
   "execution_count": 7,
   "metadata": {},
   "outputs": [
    {
     "name": "stdout",
     "output_type": "stream",
     "text": [
      "Top-2 actors playing in the most genres of movies: Brad Pitt , Amy Adams , Chloe Grace Moretz , Hugh Jackman , Johnny Depp , Scarlett Johansson\n"
     ]
    }
   ],
   "source": [
    "#problem5\n",
    "genere,a,num,generes=[],[],[],[]\n",
    "dict1={} \n",
    "actors,act,result=[],[],[]\n",
    "for i in range(len(data)):\n",
    "    sp=data[i][4].split('|')\n",
    "    for j in range(len(sp)):\n",
    "        act.append(sp[j].strip(' '))\n",
    "actors=list(set(act))                  #去掉重複的\n",
    "actors.sort()\n",
    "for i in actors:\n",
    "    b=[]\n",
    "    for j in range(len(data)):\n",
    "        if i in data[j][4]:\n",
    "            a=data[j][2].split('|')\n",
    "            b.extend(a)\n",
    "    genere.append(b)\n",
    "for i in range(len(genere)):\n",
    "    gen=list(set(genere[i]))\n",
    "    generes.append(gen)                  #去掉重複的\n",
    "    num.append(len(generes[i]))\n",
    "dict1=dict(zip(actors,num))\n",
    "dict1=dict(sorted(dict1.items(), key=lambda item: item[1],reverse=True))\n",
    "num=list(set(num))\n",
    "num.sort(reverse=True)\n",
    "print('Top-2 actors playing in the most genres of movies: ',end=\"\")\n",
    "for i in range(2):\n",
    "    for j in range(len(dict1)):\n",
    "        key1=list(dict1.keys())\n",
    "        value1=list(dict1.values())\n",
    "        if num[i]== value1[j]:\n",
    "            result.append(key1[j])\n",
    "for i in range(len(result)):\n",
    "    if i != (len(result)-1):\n",
    "        print(key1[i],end=\" , \")\n",
    "    else:\n",
    "        print(key1[i])"
   ]
  },
  {
   "cell_type": "markdown",
   "metadata": {},
   "source": [
    "先在data裡找所有演員的資料，並用split把\"|\"分開，\n",
    "因為有些演員的名字前面會包含一個空格，所以用strip把空格去掉，\n",
    "再利用set把重複的演員名字去掉，存成actors這個list，\n",
    "從actors裡面找各個演員在data裡面所有對應到的genere，存成genere這個list，\n",
    "在genere裡面的每項把重複的刪掉，存成generes這個list，\n",
    "用num去算每個演員對應到的電影類型有幾個，\n",
    "利用dictionary把actors跟num的list包在一起，actors是key，num是value，\n",
    "用set把num裡重複的數字刪掉，並由大到小排序，\n",
    "最後用for-loop找到前二名並存在result裡。"
   ]
  },
  {
   "cell_type": "code",
   "execution_count": 8,
   "metadata": {
    "scrolled": true
   },
   "outputs": [
    {
     "name": "stdout",
     "output_type": "stream",
     "text": [
      "Top-3 actors whose movies lead to the largest maximum gap of years: Abbie Cornish , Anne Hathaway , Audrey Tautou , Ben Kingsley , Ben Whishaw , Bob Balaban , Brad Pitt , Bryce Dallas Howard , Chiwetel Ejiofor , Christian Bale , Christopher Plummer , Denzel Washington , Dominic West , Dustin Hoffman , Edward Norton , Ellen Burstyn , Emily Blunt , Eva Green , Gerard Butler , Hugh Jackman , Jack Davenport , Jennifer Aniston , Jennifer Connelly , Jeremy Irons , Jessica Biel , Johnny Depp , Judi Dench , Justin Theroux , Kang-ho Song , Kate Bosworth , Kevin Spacey , Kirsten Dunst , Luke Wilson , Marion Cotillard , Mark Wahlberg , Matt Damon , Maya Rudolph , Meryl Streep , Michelle Monaghan , Morgan Freeman , Owen Wilson , Paula Patton , Rachel Weisz , Russell Crowe , Sacha Baron Cohen , Samuel L. Jackson , Scarlett Johansson , Steve Carell , Tom Cruise , Tom Hanks , Toni Collette , Will Ferrell , Will Smith\n"
     ]
    }
   ],
   "source": [
    "#problem6\n",
    "yeargap,a,num,actor=[],[],[],[]\n",
    "dict1={}\n",
    "actors,act,result=[],[],[]\n",
    "for i in range(len(data)):\n",
    "    sp=data[i][4].split('|')\n",
    "    act1=[]\n",
    "    for j in range(len(sp)):\n",
    "        act.append(sp[j].strip(' '))\n",
    "        act1.append(sp[j].strip(' '))\n",
    "    actor.append(act1)\n",
    "actors=list(set(act))       #去掉重複的\n",
    "actors.sort()\n",
    "for i in actors:\n",
    "    b=[]\n",
    "    for j in range(len(actor)):\n",
    "        for k in range(len(actor[j])):\n",
    "            if i == actor[j][k]:\n",
    "                b.append(int(data[j][5]))\n",
    "    a.append(b)\n",
    "for i in a:\n",
    "    gap=max(i)-min(i)\n",
    "    num.append(gap)\n",
    "dict1=dict(zip(actors,num))\n",
    "dict1=dict(sorted(dict1.items(), key=lambda item: item[1],reverse=True))\n",
    "num=list(set(num))\n",
    "num.sort(reverse=True)\n",
    "print('Top-3 actors whose movies lead to the largest maximum gap of years: ',end=\"\")\n",
    "for i in range(1):\n",
    "    for j in range(len(dict1)):\n",
    "        key1=list(dict1.keys())\n",
    "        value1=list(dict1.values())\n",
    "        if num[i]== value1[j]:\n",
    "            result.append(key1[j])\n",
    "for i in range(len(result)):\n",
    "    if i != (len(result)-1):\n",
    "        print(key1[i],end=\" , \")\n",
    "    else:\n",
    "        print(key1[i])"
   ]
  },
  {
   "cell_type": "markdown",
   "metadata": {},
   "source": [
    "先在data裡找所有演員的資料，並用split把\"|\"分開，\n",
    "因為有些演員的名字前面會包含一個空格，所以用strip把空格去掉，\n",
    "再利用set把重複的演員名字去掉，存成actors這個list\n",
    "從actors裡面找各個演員在data裡面所有對應到的年分，把年份由str轉成int存在a，\n",
    "在a裡的每一項，用最大值減去最小值就得到gap year，\n",
    "把每位演員的gap year再存到num中，\n",
    "利用dictionary把actors跟num的list包在一起，actors是key，num是value，\n",
    "用set把num裡重複的數字刪掉，並由大到小排序，\n",
    "最後用for-loop找到最大GAP YEAR的所有演員並存在result裡。"
   ]
  },
  {
   "cell_type": "code",
   "execution_count": 9,
   "metadata": {
    "collapsed": true
   },
   "outputs": [
    {
     "name": "stdout",
     "output_type": "stream",
     "text": [
      "All actors who collaborate with Johnny Depp: 50 Cent , ?lafur Darri ?lafsson , ?scar Jaenada , AJ Michalka , Aaron Burns , Aaron Eckhart , Aaron Paul , Aaron Taylor-Johnson , Aaron Yoo , Aasif Mandvi , Abbie Cornish , Abigail Breslin , Adam Brody , Adam Devine , Adam Driver , Adam Levine , Adam Pally , Adam Rodriguez , Adam Sandler , Addison Timlin , Adelaide Kane , Adele Exarchopoulos , Adewale Akinnuoye-Agbaje , Adil Hussain , Adria Arjona , Adrian Grenier , Adrian Martinez , Adrianne Palicki , Adrien Brody , Aidan Gillen , Aidan Quinn , Aidan Turner , Aiden Longworth , Akiva Schaffer , Alain Moussi , Alan Alda , Alan Arkin , Alan Rickman , Alan Tudyk , Albert Brooks , Albert Finney , Alden Ehrenreich , Aldis Hodge , Alec Baldwin , Alessandro Nivola , Alex Essoe , Alex Fisher , Alex Pettyfer , Alex R. Hibbert , Alexander Black , Alexander Ludwig , Alexander Skarsgard , Alexandra Daddario , Alexandra Maria Lara , Alexis Clagett , Alexis Dziena , Alfie Allen , Alfre Woodard , Alfred Molina , Ali Larter , Alia Shawkat , Alice Braga , Alice Englert , Alice Eve , Alicia Vikander , Alison Brie , Alison Pill , Alison Sudol , Alistair Abell , Allen Leech , Allison Janney , Allison Tolman , Amanda Bynes , Amanda Peet , Amanda Seyfried , Amara Miller , Amber Heard , Amber Tamblyn , America Ferrera , Amr Waked , Amy Adams , Amy Poehler , Amy Ryan , Amy Schumer , Ana de Armas , Analeigh Tipton , Anders Danielsen Lie , Anders Holm , Andie MacDowell , Andre Braugher , Andrea Riseborough , Andrea Whitburn , Andreas Wisniewski , Andrew Garfield , Andrew Scott , Andrew Simpson , Andy Garcia , Andy Lau , Andy Powers , Andy Samberg , Andy Serkis , Ang Phula Sherpa , Angela Bassett , Angelina Jolie , Angelo Josue Lozano Corzo , Angourie Rice , Anika Noni Rose , Anil Kapoor , Anna Camp , Anna Faris , Anna Friel , Anna Hutchison , Anna Kendrick , AnnaSophia Robb , Annabelle Attanasio , Annabelle Wallis , Annabeth Gish , Annalise Basso , Anne Hathaway , Annette Bening , Annie Rose Buckley , Ansel Elgort , Anthony Anderson , Anthony Edwards , Anthony Hopkins , Anthony LaPaglia , Anthony Mackie , Antje Traue , Anton Yelchin , Antonia Ribero , Antonio Banderas , Antonio Tarver , Anya Taylor-Joy , Aomi Muyock , Ari Graynor , Ariel Levy , Armie Hammer , Armin Mueller-Stahl , Arnaud Viard , Arnold Schwarzenegger , Art Parkinson , Arturo Castro , Aryana Engineer , Asa Butterfield , Ashley Benson , Ashlyn Sanchez , Ashton Kutcher , Astrid Berges-Frisbey , Aubrey Plaza , Audrey Tautou , Auli'i Cravalho , Aurelien Recoing , Austin Abrams , Austin Stowell , Bailey Anne Borders , Barkhad Abdi , Barkhad Abdirahman , Barry Pepper , Barry Ward , Bel Powley , Bella Heathcote , Bella Thorne , Ben Affleck , Ben Barnes , Ben Foster , Ben Kingsley , Ben Stiller , Ben Walker , Ben Whishaw , Ben Winchell , Benedict Cumberbatch , Benedict Wong , Benicio Del Toro , Benjamin Bratt , Benjamin Walker , Beverly D'Angelo , Bill Engvall , Bill Hader , Bill Murray , Bill Nighy , Bill Paxton , Bill Pullman , Billie Piper , Billy Bob Thornton , Billy Burke , Billy Connolly , Billy Crudup , Billy Crystal , Blake Jenner , Blake Lively , Blythe Danner , Bob Balaban , Bokeem Woodbine , Bonnie Hunt , Boyd Holbrook , Brad Pitt , Bradley Cooper , Brady Corbet , Brandon Routh , Brandon T. Jackson , Bree Turner , Brenda Blethyn , Brendan Fraser , Brendan Gleeson , Brenton Thwaites , Brett Cullen , Brian Caspe , Brian Cox , Brian Dennehy , Brian Geraghty , Brian Howe , Brian Marc , Bridgette Barrett , Brie Larson , Brighton Sharbino , Brit Marling , Britt Robertson , Brittany Murphy , Brittany Snow , Brooke Shields , Brooklyn Decker , Bruce Boxleitner , Bruce Greenwood , Bruce Willis , Bruno Campos , Bryan Cranston , Bryan Greenberg , Bryce Dallas Howard , Burt Young , Byung-hun Lee , C.H. Evans , CCH Pounder , Caitlyn Rund , Callan McAuliffe , Callum Keith Rennie , Calum Worthy , Cam Gigandet , Cameron Diaz , Camille Cottin , Candice Bergen , Cara Buono , Cara Delevingne , Carey Mulligan , Carice van Houten , Carla Gugino , Carly Rae Jepsen , Carmen Ejogo , Carmen Electra , Carrie-Anne Moss , Cary Elwes , Cary Joji Fukunaga , Cary-Hiroyuki Tagawa , Casey Affleck , Catalina Sandino Moreno , Cate Blanchett , Catherine Keener , Cedric the Entertainer , Chadwick Boseman , Channing Tatum , Charles Dance , Charles S. Dutton , Charlie Cox , Charlie Day , Charlie Heaton , Charlie Hunnam , Charlie Tahan , Charlize Theron , Charlotte Gainsbourg , Charlotte Le Bon , Chatchawai Kamonsakpitak , Cheryl Hines , Chiwetel Ejiofor , Chloe Grace Moretz , Chloe Sevigny , Chris Cooper , Chris Evans , Chris Hemsworth , Chris Isaak , Chris Messina , Chris Pine , Chris Pratt , Chris Rock , Chris Wedge , Christian Bale , Christian Cooke , Christian Distefano , Christian Stevens , Christian Stolte , Christina Applegate , Christina Hendricks , Christoph Waltz , Christopher Evan Welch , Christopher Fitzgerald , Christopher Lee , Christopher McDonald , Christopher Mintz-Plasse , Christopher Plummer , Christopher Walken , Ciaran Hinds , Cillian Murphy , Claire Danes , Clifton Collins Jr. , Clint Dyer , Clive Owen , Cobie Smulders , Cole Konis , Colin Farrell , Colin Firth , Colin Hanks , Colin Quinn , Colm Feore , Colm Meaney , Colton Haynes , Common , Connie Nielsen , Corey Stoll , Cori Gonzalez-Macuer , Craig Ferguson , Craig Robinson , Craig T. Nelson , Craig Van Hook , Crispin Glover , Cush Jumbo , Cynthia Nixon , Daisy Ridley , Dakota Blue Richards , Dakota Fanning , Dakota Goyo , Dakota Johnson , Dale Dickey , Damaine Radcliff , Damien Marzette , Damon Wayans Jr. , Dan Byrd , Dan Fogler , Dan Stevens , Dana Fuchs , Dane Cook , Dane DeHaan , Daniel Bruhl , Daniel Craig , Daniel Day-Lewis , Daniel Eric Gold , Daniel Gimenez Cacho , Daniel Henshall , Daniel Olbrychski , Daniel Radcliffe , Daniel Zovatto , Daniella Kertesz , Danielle Nicolet , Danila Kozlovsky , Danny DeVito , Danny Glover , Danny Huston , Danny McBride , Danny Sapani , Danny Trejo , Dave Bautista , Dave Franco , David Acord , David Denman , David Harbour , David James , David Lyons , David Morse , David Oyelowo , David Spade , David Strathairn , David Thewlis , David Wenham , Dax Flame , Dax Shepard , De'Shawn Washington , Dean Mumford , Dean Norris , Deanna Dunagan , Deborah Kara Unger , Demi Moore , Demian Bichir , Denis Leary , Dennis Quaid , Denzel Washington , Derek Jacobi , Derek Jeter , Derek Luke , Dermot Mulroney , Dev Patel , Devon Bostick , Diane Kruger , Diane Lane , Dianna Agron , Dick Van Dyke , Diego Boneta , Diego Klattenhoff , Diego Luna , Djimon Hounsou , Dolph Lundgren , Domhnall Gleeson , Dominic Cooper , Dominic West , Dominique McElligott , Dominique Swain , Dominique Tipper , Don Cheadle , Don Thompson , Donald Sutherland , Dong-seok Ma , Donna Murphy , Donnie Yen , Doona Bae , Doug Jones , Dougie McConnell , Douglas M. Griffin , Drew Barrymore , Duan Sanderson , Duncan Duff , Duncan Joiner , Dustin Hoffman , Dwayne Johnson , Dylan Minnette , Dylan O'Brien , Ed Harris , Ed Helms , Ed O'Neill , Ed Oxenbould , Ed Skrein , Eddie Baroo , Eddie Izzard , Eddie Marsan , Eddie Murphy , Eddie Redmayne , Edgar Ramirez , Edie Falco , Edward Asner , Edward Norton , Elena Anaya , Eli Roth , Elijah Smith , Elijah Wood , Elisabeth Moss , Elisabeth Shue , Elizabeth Banks , Elizabeth Berrington , Elizabeth Debicki , Elizabeth Olsen , Elizabeth Reaser , Ella Anderson , Ella Rumpf , Ellar Coltrane , Elle Fanning , Ellen Burstyn , Ellen DeGeneres , Ellen Page , Ellie Kemper , Eloise Mumford , Emayatzy Corinealdi , Emile Hirsch , Emilia Clarke , Emilie Leclerc , Emilie de Ravin , Emily Blunt , Emily Browning , Emily Meade , Emily Mortimer , Emily Ratajkowski , Emma Fitzpatrick , Emma Greenwell , Emma Roberts , Emma Stone , Emma Thompson , Emma Watson , Emmanuelle Chriqui , Emory Cohen , Eric Bana , Eric Godon , Eric Stonestreet , Eric Winter , Erin Moriarty , Ernst Stotzner , Essie Davis , Ethan Hawke , Ethan Suplee , Eva Green , Eva Mendes , Evan Rachel Wood , Evangeline Lilly , Eve , Ewa Froling , Ewan McGregor , Ewen Leslie , Ezra Miller , F. Murray Abraham , Faith Wladyka , Famke Janssen , Felicity Jones , Ferdia Walsh-Peelo , Fionn O'Shea , Florence Clery , Florence Kastriner , Forest Whitaker , Fran Kranz , Frances O'Connor , Francesc Albiol , Frank Langella , Frank Madigan , Fred Dalton Thompson , Freddie Crowder , Freddie Highmore , Freddy Rodriguez , Freida Pinto , Gabourey Sidibe , Gabriel Basso , Gabriel Bateman , Gabriel Byrne , Gabriel Chavarria , Gabriel Luna , Gabriela Lopez , Gabriella Wilde , Gaby Hoffmann , Gael Garcia Bernal , Gal Gadot , Garance Marillier , Garret Dillahunt , Garrett Hedlund , Garrett M. Brown , Gary Cole , Gary Oldman , Gattlin Griffith , Gemma Arterton , Gemma Jones , Gemma Ward , Genesis Rodriguez , Geoffrey Arend , Geoffrey Rush , George Clooney , George Lopez , George MacKay , Gerard Butler , Gerry Bednob , Giancarlo Esposito , Gil Birmingham , Gina Carano , Ginnifer Goodwin , Giovanni Ribisi , Glenn Close , Golshifteh Farahani , Graham McTavish , Greg Kinnear , Gregg Weiner , Greta Gerwig , Gretchen Mol , Gugu Mbatha-Raw , Guillaume Baillargeon , Guy Pearce , Gwyneth Paltrow , Hae-il Park , Hailee Steinfeld , Haley Bennett , Haley Joel Osment , Haley Lu Richardson , Halle Berry , Hans Matheson , Harley Quinn Smith , Harold Perrineau , Harrison Ford , Harry Connick Jr. , Harvey Keitel , Hayden Christensen , Hayden Panettiere , Hayley Atwell , Hayley McElhinney , Heath Ledger , Hee-Bong Byun , Helen Mirren , Helena Bonham Carter , Henry Cavill , Henry Thomas , Hermione Corfield , Hilary Swank , Hugh Grant , Hugh Jackman , Hugh Laurie , Hugo Weaving , Hunter McCracken , Iain Glen , Ian McKellen , Ian McShane , Ice Cube , Idina Menzel , Idris Elba , Ike Barinholtz , Imelda Staunton , Imogen Poots , India Eisley , Iris Apatow , Irrfan Khan , Isabel Lucas , Isabella Rossellini , Isabelle Fuhrman , Isabelle Nelisse , Isaiah Stone , Isla Fisher , Israel Broussard , Ivo Nandi , J. Todd Smith , J.K. Simmons , Jack Black , Jack Davenport , Jack Huston , Jack Madigan , Jack McBrayer , Jack Nicholson , Jack O'Connell , Jack Reynor , Jacki Weaver , Jackie Chan , Jackie Earle Haley , Jackson Rathbone , Jacob Tremblay , Jaden Smith , Jae Head , Jai Courtney , Jaime Winstone , Jake Abel , Jake Gyllenhaal , Jake Johnson , Jalil Lespert , Jamal Woolard , James Badge Dale , James DuMont , James Floyd , James Franco , James Frecheville , James Gandolfini , James Hamrick , James Marsden , James McAvoy , James Ransone , Jamie Bell , Jamie Blackley , Jamie Campbell Bower , Jamie Chung , Jamie Dornan , Jamie Foxx , Jan Cornet , Jane Fonda , Jane Levy , Jane Lynch , Janelle Monae , Janet McTeer , January Jones , Jared Gilman , Jared Harris , Jared Leto , Jasmine Trinca , Jason Barry , Jason Bateman , Jason Clarke , Jason Cope , Jason Flemyng , Jason Isaacs , Jason Momoa , Jason O'Mara , Jason Schwartzman , Jason Segel , Jason Statham , Jason Sudeikis , Jasper Newell , Javier Bardem , Jay Baruchel , Jean Reno , Jean-Claude Van Damme , Jeff Bridges , Jeff Daniels , Jeff Goldblum , Jeff Kahn , Jeffrey Dean Morgan , Jeffrey Wright , Jemaine Clement , Jemima West , Jena Malone , Jenna Dewan Tatum , Jenna Elfman , Jennifer Aniston , Jennifer Connelly , Jennifer Ehle , Jennifer Garner , Jennifer Jason Leigh , Jennifer Koenig , Jennifer Lawrence , Jennifer Lopez , Jennifer Morrison , Jennifer Saunders , Jenny Slate , Jeremy Davies , Jeremy Irons , Jeremy Irvine , Jeremy McWilliams , Jeremy Renner , Jerry Ferrara , Jerry O'Connell , Jerry Stiller , Jesse Eisenberg , Jesse Plemons , Jessica Alba , Jessica Barden , Jessica Barth , Jessica Biel , Jessica Brown Findlay , Jessica Chastain , Jessica Lange , Jessica Lucas , Jessica Sula , Jessie Ok Gray , Jet Li , Ji-min Han , Jim Broadbent , Jim Carrey , Jim Caviezel , Jim Parsons , Jim Sturgess , Jo Hartley , Joan Allen , Joan Cusack , Joaquin Phoenix , Jodie Foster , Joe Alwyn , Joe Anderson , Joe Cobden , Joe Manganiello , Joel Courtney , Joel David Moore , Joel Edgerton , Joel Kinnaman , Joel McHale , Joely Richardson , Joey Lauren Adams , Joey Morgan , John Alexander , John Boyega , John C. McGinley , John C. Reilly , John Carroll Lynch , John Corbett , John Cullum , John Cusack , John D'Leo , John Doman , John Gallagher Jr. , John Goodman , John Hawkes , John Hodgman , John Hurt , John Krasinski , John Leguizamo , John Malkovich , John Ratzenberger , John Travolta , John Turturro , Johnny Simmons , Jon Bernthal , Jon Daly , Jon Favreau , Jon Hamm , Jon Voight , Jonah Hill , Jonathan Daniel Brown , Jonathan Groff , Jonathan Rhys Meyers , Jonathan Roumie , Jonny Brugh , Jonny Weston , Jordan Carlos , Jordan Nagai , Jordana Brewster , Jordi Moll? , Jorge Garcia , Jorma Taccone , Josef Altin , Joseph Fiennes , Joseph Gordon-Levitt , Joseph Mawle , Josh Brener , Josh Brolin , Josh Duhamel , Josh Gad , Josh Hartnett , Josh Hutcherson , Josh Lucas , Josh Peck , Josh Stewart , Josh Wiggins , Joshua Leonard , Jovan Adepo , Juan Saavedra , Judah Lewis , Jude Law , Judi Dench , Judy Davis , Judy Greer , Julia Ormond , Julia Roberts , Julia Stiles , Julian Barratt , Julian Dennison , Julian Richings , Julianna Margulies , Julianne Hough , Julianne Moore , Julie Andrews , Julie Benz , Julie Walters , Juliet Rylance , Juno Temple , Justice Smith , Justin Bartha , Justin Long , Justin Theroux , Justin Timberlake , Kagiso Kuypers , Kai Ryssdal , Kaitlin Olson , Kang-ho Song , Kara Hayward , Karel Hermanek Jr. , Karen Allen , Karen Disher , Karen Gillan , Karen Moskow , Kari Matchett , Karin Konoval , Karl Glusman , Karl Urban , Karolina Gruszka , Kat Dennings , Kate Beckinsale , Kate Bosworth , Kate Dickie , Kate Hudson , Kate Mara , Kate McKinnon , Kate Siegel , Kate Upton , Kate Winslet , Katee Sackhoff , Katey Sagal , Katherine Heigl , Katherine Waterston , Kathleen Quinlan , Kathryn Hahn , Kathy Baker , Kathy Bates , Kati Outinen , Katie Crown , Katie Holmes , Katy Barker , Kaya Scodelario , Keanu Reeves , Keir Gilchrist , Keira Knightley , Keith Carradine , Keith David , Kelly Adams , Kelly Macdonald , Kelly Reilly , Kelsey Grammer , Ken Stott , Ken Watanabe , Kenneth Branagh , Kenny Wormald , Keri Russell , Kerry Bishe , Kerry Washington , Kevin Bacon , Kevin Connolly , Kevin Costner , Kevin Dillon , Kevin Hart , Kevin James , Kevin Kline , Kevin McKidd , Kevin Nealon , Kevin Spacey , Kiefer Sutherland , Kieran Culkin , Kiernan Shipka , Kiersey Clemons , Kim Cattrall , Kim Coates , Kimberly Elise , Kirby Bliss Blanton , Kirsten Dunst , Kit Harington , Klara Kristin , Kodi Smit-McPhee , Kristen Bell , Kristen Connolly , Kristen Stewart , Kristen Wiig , Kristin Chenoweth , Kristin Davis , Kristin Scott Thomas , Kurt Fuller , Kurt Russell , Kyle Chandler , Kyle Gallner , Kylie Rogers , Kyra Sedgwick , Lainie Kazan , Lake Bell , Lambert Wilson , Lara Pulver , Larry the Cable Guy , Lars Eidinger , Laura Allen , Laura Dern , Laura Linney , Laura Ramsey , Lauren Graham , Lauren Holly , Laurence Fishburne , Laurent Lucas , Laurie Holden , Lea Seydoux , Leehom Wang , Leland Orser , Lena Endre , Lena Headey , Leonard Nimoy , Leonardo DiCaprio , Lesley Manville , Leslie Bibb , Leslie Jones , Leslie Mann , Levi Miller , Lewis Black , Lewis MacDougall , Lia Marie Johnson , Liam Hemsworth , Liam Neeson , Liana Liberato , Liev Schreiber , Lili Sepe , Lili Taylor , Lily Cole , Lily Collins , Lily James , Lily Rabe , Lily-Rose Depp , Lin Shaye , Linda Cardellini , Linda Gegusch , Linh Dan Pham , Lior Ashkenazi , Lisa Kudrow , Lisa Thoreson , Liv Tyler , Lizzy Caplan , Logan Huffman , Logan Lerman , Logan Marshall-Green , Logan Miller , Logan Paul , Lois van Wijk , Lorenza Izzo , Lorraine Nicholson , Lorraine Toussaint , Lou Taylor Pucci , Louis C.K. , Lucas Black , Lucas Hedges , Lucas Till , Lucy Boynton , Lucy Fry , Lucy Liu , Lucy Walters , Luing Andrews , Lukas Hassel , Luke Bracey , Luke Evans , Luke Kleintank , Luke Wilson , Lulu Wilson , Lupita Nyong'o , Lydia Wilson , Lynn Collins , Lynsey Taylor Mackay , Mackenzie Foy , Maddie Ziegler , Madeleine West , Madina Nalwanga , Madison Wolfe , Mae Whitman , Maggie Grace , Maggie Gyllenhaal , Maggie Q , Mahershala Ali , Maika Monroe , Malcolm Sinclair , Malin Akerman , Mandy Gonzalez , Mandy Moore , Marcia Gay Harden , Margarita Levieva , Margot Robbie , Maria Bello , Maria Dizzia , Maria Doyle Kennedy , Mariah Carey , Marie Gruber , Marion Cotillard , Marisa Paredes , Mark Chao , Mark Ruffalo , Mark Rylance , Mark Strong , Mark Wahlberg , Marley Shelton , Marlon Wayans , Martin Freeman , Martin Henderson , Martin Kabanza , Martin McCann , Martin Stringer , Marton Csokas , Mary Elizabeth Winstead , Mary McCormack , Mary Steenburgen , Mary-Louise Parker , Mason Lee , Mateo Arias , Mathieu Amalric , Matt Bomer , Matt Damon , Matt Lanter , Matt Long , Matthew Fox , Matthew Goode , Matthew Macfadyen , Matthew Marsden , Matthew McConaughey , Matthew Morrison , Matthew Perry , Matthew Zuk , Matthias Schoenaerts , Maude Apatow , Mauricio Lopez , Max Burkholder , Max Greenfield , Max Irons , Max Martini , Max Minghella , Max von Sydow , Maya Rudolph , McCaul Lombardi , Megan Charpentier , Megan Fox , Megan Park , Mel Gibson , Mel Raido , Melanie Laurent , Melissa Benoist , Melissa Leo , Melissa McCarthy , Meryl Streep , Mia Goth , Mia Stallard , Mia Wasikowska , Michael B. Jordan , Michael C. Hall , Michael Caine , Michael Cera , Michael Chiklis , Michael Constantine , Michael Dickson , Michael Douglas , Michael Ealy , Michael Fassbender , Michael Gambon , Michael Keaton , Michael Kelly , Michael Kenneth Williams , Michael Mantell , Michael McDonald , Michael McElhatton , Michael Nyqvist , Michael Parks , Michael Pena , Michael Pitt , Michael Rooker , Michael Shannon , Michael Sheen , Michael Stuhlbarg , Michael Trucco , Michael Vartan , Michael Yare , Michelle Monaghan , Michelle Pfeiffer , Michelle Rodriguez , Michelle Williams , Michelle Yeoh , Michiel Huisman , Mickey Rourke , Mike Vogel , Mila Kunis , Miles Heizer , Miles Teller , Milla Jovovich , Milo Ventimiglia , Min-sik Choi , Mindy Kaling , Mira Sorvino , Miranda Cosgrove , Mireille Enos , Miyavi , Mo'Nique , Moe Dunford , Mohamed Akhzam , Moises Acevedo , Moises Arias , Momo Dione , Moon Bloodgood , Morena Baccarin , Morgan Freeman , Morgan Lily , Morgan Saylor , Nadine Velazquez , Nancy Kwan , Naomi Watts , Naomie Harris , Nat Wolff , Natalie Martinez , Natalie Portman , Natascha McElhone , Natasha Henstridge , Nathalie Baye , Nathalie Boltt , Nathan Fillion , Nathan Phillips , Nazanin Boniadi , Ned Beatty , Neel Sethi , Neil Patrick Harris , Nellie , Ni Ni , Nia Vardalos , Nicholas Braun , Nicholas Galitzine , Nicholas Hope , Nicholas Hoult , Nick Frost , Nick Krause , Nick Nolte , Nick Offerman , Nick Robinson , Nick Swardson , Nicola Peltz , Nicolas Cage , Nicole Beharie , Nicole Kidman , Nicole Parker , Nikki Blonsky , Nikolaj Coster-Waldau , Nina Dobrev , Noah Ringer , Noah Taylor , Noah Wiseman , Noel Fisher , Noomi Rapace , Oakes Fegley , Oaklee Pendergast , Octavia Spencer , Odeya Rush , Olga Kurylenko , Oliver Cooper , Oliver Platt , Olivia Colman , Olivia Cooke , Olivia DeJonge , Olivia Luccardi , Olivia Munn , Olivia Thirlby , Olivia Wilde , Olivia Williams , Oona Chaplin , Oona Laurence , Ophelia Lovibond , Oprah Winfrey , Orlando Bloom , Orto Ignatiussen , Oscar Isaac , Owen Wilson , Pablo Schreiber , Paddy Considine , Patricia Arquette , Patricia Clarkson , Patrick Dempsey , Patrick Stewart , Patrick Wilson , Paul Anderson , Paul Bettany , Paul Birchard , Paul Dano , Paul Giamatti , Paul Newman , Paul Reiser , Paul Rudd , Paul Walker , Paula Beer , Paula Patton , Paula Prentiss , Penelope Cruz , Penelope Wilton , Penn Badgley , Peter Dinklage , Peter Facinelli , Peter McRobbie , Peter Riegert , Peter Sarsgaard , Peter Stormare , Peyton List , Philip Seymour Hoffman , Phylicia Rashad , Pierce Brosnan , Pierre Coffin , Pierre Niney , Portia Doubleday , Queen Latifah , Quinton Aaron , Quvenzhane Wallis , RJ Cyler , Rabah Nait Oufella , Rachael Blake , Rachael Harris , Rachel Bilson , Rachel Blanchard , Rachel House , Rachel Korine , Rachel McAdams , Rachel Weisz , Rachel Wood , Radha Mitchell , Raffey Cassidy , Raghuvir Joshi , Rainn Wilson , Ralph Fiennes , Ralph Ineson , Randall Park , Randy Couture , Rasmus Hardiker , Ray Romano , Ray Stevenson , Ray Winstone , Rebecca Ferguson , Rebecca Hall , Rebel Wilson , Reese Witherspoon , Regina Hall , Rene Russo , Renee Zellweger , Rhona Mitra , Rhys Ifans , Riccardo Scamarcio , Richard Armitage , Richard Dreyfuss , Richard Gere , Richard Jenkins , Richard Madden , Richenda Carey , Rihanna , Rila Fukushima , Riley Keough , Riley Thomas Stewart , Rima Te Wiata , Rinko Kikuchi , Rip Torn , Riz Ahmed , Rizwan Manji , Rob Corddry , Rob Riggle , Robbie Amell , Robert Capron , Robert Carlyle , Robert De Niro , Robert Downey Jr. , Robert Duvall , Robert Knepper , Robert Patrick , Robert Pattinson , Robert Redford , Robert Sheehan , Robin Williams , Robin Wright , Rodrigo Santoro , Romain Duris , Ron Livingston , Ron Perlman , Ronnie Gene Blevins , Rooney Mara , Rory Cochrane , Rory J. Saper , Rosamund Pike , Rosario Dawson , Rose Byrne , Rose Leslie , Rose McGowan , Rosemarie DeWitt , Rosie Huntington-Whiteley , Rosie Shaw , Ross Kimball , Ruben Blades , Ruby Barnhill , Rufus Sewell , Rupert Friend , Rupert Grint , Russell Brand , Russell Crowe , Ruth Negga , Ruth Wilson , Ryan Gosling , Ryan Guzman , Ryan Lee , Ryan Potter , Ryan Reynolds , Ryoko Seta , Sacha Baron Cohen , Salim Kechiouche , Salli Richardson-Whitfield , Sally Field , Sally Hawkins , Sally Phillips , Salma Hayek , Sam Claflin , Sam Elliott , Sam Neill , Sam Riley , Sam Rockwell , Sam Shepard , Sam Trammell , Sam Worthington , Samantha Isler , Samantha Morton , Samantha Sloyan , Samuel L. Jackson , Sandra Bullock , Sandra Kinder , Sanjeev Bhaskar , Saoirse Ronan , Sarah Clarke , Sarah Dumont , Sarah Gadon , Sarah Jessica Parker , Sarah Paulson , Sarah Polley , Sarah Roemer , Sarah Silverman , Sarah Snook , Sarita Choudhury , Sasha Lane , Saurabh Shukla , Scarlett Johansson , Scott Adsit , Scott Eastwood , Scott Glenn , Scott Lawrence , Scott Mescudi , Scott Speedman , Sean Bean , Sean Bott , Sean Bridgers , Sean Faris , Sean Patrick Thomas , Sean Penn , Sebastian Stan , Selena Gomez , Selma Blair , Seth MacFarlane , Seth Rogen , Shad Moss , Shailene Woodley , Shameik Moore , Shannon Woodward , Shariff Earp , Sharlto Copley , Shawn Roberts , Shea Adams , Sheila Kelley , Shia LaBeouf , Shiloh Fernandez , Sienna Guillory , Sienna Miller , Sigourney Weaver , Sigrid Bouaziz , Simon Helberg , Simon Pegg , Skyler Gisondo , Sofia Black-D'Elia , Sonoya Mizuno , Soo-an Kim , Sophie Nelisse , Sophie Okonedo , Sophie Perry , Stacy Martin , Stanley Tucci , Steele Stebbins , Stellan Skarsgard , Stephen Dorff , Stephen Henderson , Stephen Lang , Stephen Merchant , Stephen Moyer , Stephen Rea , Steve Buscemi , Steve Carell , Steve Coogan , Steve Lantz , Steve Martin , Steve Tom , Steve Wiebe , Steve Zahn , Steven Mackintosh , Steven Yeun , Storm Acheche Sahlstrom , Su Elliot , Sue Dahlman , Sullivan Stapleton , Sunny Pawar , Suraj Sharma , Susan Sarandon , Sylvester Stallone , Sylvia Hoeks , T.I. , T.J. Miller , T.R. Knight , Tabu , Tadanobu Asano , Taika Waititi , Taissa Farmiga , Tammy Blanchard , Tangie Ambrose , Tania Raymonde , Tao Okamoto , Taraji P. Henson , Taron Egerton , Taylor Kitsch , Taylor Lautner , Taylor Schilling , Taylor Swift , Ted Levine , Temuera Morrison , Terence Stamp , Teresa Palmer , Teri Hatcher , Terrence Howard , Terry Crews , Tessa Thompson , Teyonah Parris , Thandie Newton , Theo James , Theo Rossi , Thomas Brodie-Sangster , Thomas Haden Church , Thomas Jane , Thomas Lennon , Thomas M. Wright , Thomas Mann , Thomas Middleditch , Tian Jing , Tijuana Ricks , Til Schweiger , Tilda Swinton , Tim Allen , Tim Blake Nelson , Tim McGraw , Tim Roth , Timothy Olyphant , Timothy Spall , Tina Fey , Tobey Maguire , Tobias Menzies , Toby Jones , Toby Kebbell , Tom Costello , Tom Cruise , Tom Cullen , Tom Felton , Tom Hanks , Tom Hardy , Tom Hiddleston , Tom Holland , Tom Hughes , Tom Mison , Tom Prior , Tom Sizemore , Tom Wilkinson , Tommy Lee Jones , Toni Collette , Tony Amendola , Tony Danza , Tony Goldwyn , Tony Revolori , Tony Shalhoub , Topher Grace , Tracy Letts , Travis Fimmel , Travis Tope , Trenton Rogers , Trey Songz , Ty Simpkins , Tye Sheridan , Tyler Hoechlin , Tyler James Williams , Tyler Perry , Tyne Daly , Tyrese Gibson , Usher Raymond , Val Kilmer , Valerie Mahaffey , Vanessa Ferlito , Vanessa Hudgens , Vanessa Lachey , Vera Farmiga , Vernetta Lopez , Vicky Krieps , Victoria Justice , Viggo Mortensen , Vin Diesel , Vince Vaughn , Vincent Cassel , Vincent D'Onofrio , Vincent Ebrahim , Vincent Kartheiser , Ving Rhames , Vinnie Jones , Viola Davis , Walton Goggins , Ward Horton , Wei Tang , Wendi McLendon-Covey , Wendy Crewson , Wentworth Miller , Wenwen Han , Werner Herzog , Wes Bentley , Will Arnett , Will Dalton , Will Ferrell , Will Poulter , Will Smith , Will Yun Lee , Willem Dafoe , William Fichtner , William Hurt , Winona Ryder , Woody Allen , Woody Harrelson , Xavier Samuel , Yoo Gong , Yu-mi Jung , Zac Efron , Zac Mattoon O'Brien , Zach Galifianakis , Zach Grenier , Zachary Bennett , Zachary Gordon , Zachary Levi , Zachary Quinto , Zachery Ty Bryan , Zoe Bell , Zoe Kazan , Zoe Kravitz , Zoe Saldana , Zoey Deutch , Zooey Deschanel\n"
     ]
    }
   ],
   "source": [
    "#problem7\n",
    "actors=[]\n",
    "ans = []\n",
    "for i in range(len(data)):\n",
    "    actor=data[i][4].split(\"|\")\n",
    "    act=[]\n",
    "    for j in range(len(actor)) :\n",
    "        act.append(actor[j].strip(' '))\n",
    "    actors.append(act)\n",
    "def find(name):\n",
    "    global ans\n",
    "    rel = []\n",
    "    for i in range(len(actors)):\n",
    "        if name in actors[i]:\n",
    "            actors[i].remove(name)\n",
    "            for j in actors[i]:\n",
    "                if j in ans:\n",
    "                    continue\n",
    "                rel.append(j)\n",
    "                ans.append(j)\n",
    "    rel = list(set(rel))\n",
    "    for i in rel:\n",
    "        find(i)\n",
    "\n",
    "find(\"Johnny Depp\")\n",
    "ans.sort()\n",
    "print('All actors who collaborate with Johnny Depp: ',end=\"\")\n",
    "for i in range(len(ans)):\n",
    "    if i != (len(ans)-1):\n",
    "        print(ans[i],end=\" , \")\n",
    "    else:\n",
    "        print(ans[i])"
   ]
  },
  {
   "cell_type": "markdown",
   "metadata": {},
   "source": [
    "先在data裡找所有演員的資料，並用split把\"|\"分開，\n",
    "因為有些演員的名字前面會包含一個空格，所以用strip把空格去掉，\n",
    "寫一個function重複找與Johnny Depp相關的演員存在rel及ans中，\n",
    "再從rel中繼續找相關的演員，重覆到無新增演員為止。"
   ]
  }
 ],
 "metadata": {
  "kernelspec": {
   "display_name": "Python 3",
   "language": "python",
   "name": "python3"
  },
  "language_info": {
   "codemirror_mode": {
    "name": "ipython",
    "version": 3
   },
   "file_extension": ".py",
   "mimetype": "text/x-python",
   "name": "python",
   "nbconvert_exporter": "python",
   "pygments_lexer": "ipython3",
   "version": "3.8.5"
  }
 },
 "nbformat": 4,
 "nbformat_minor": 4
}
